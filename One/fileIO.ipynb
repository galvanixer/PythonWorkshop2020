{
 "cells": [
  {
   "cell_type": "markdown",
   "metadata": {},
   "source": [
    "## File I/O in Python"
   ]
  },
  {
   "cell_type": "markdown",
   "metadata": {},
   "source": [
    "Reading and writing files in Python is a breeze. The immense power comes from various open source libraries that have been develped by programming enthusiasts for past 3 decades. In this exercise, we will learn how to read and write to .csv file."
   ]
  },
  {
   "cell_type": "markdown",
   "metadata": {},
   "source": [
    "1. Datasets  \n",
    "Let's download COVID-19 datasets from the web.\n",
    "https://datahub.io/core/covid-19\n",
    "\n",
    "\n",
    "Data is available in both .csv and .json format. We will be using .csv file for our analysis.\n",
    "We are using these two files:\n",
    "* time-series-19-covid-combined_csv.csv\n",
    "* key-countries-pivoted_csv.csv"
   ]
  },
  {
   "cell_type": "code",
   "execution_count": 4,
   "metadata": {},
   "outputs": [],
   "source": [
    "# Importing basic libraries\n",
    "import numpy as np\n",
    "from matplotlib import pyplot as plt\n",
    "import csv"
   ]
  },
  {
   "cell_type": "code",
   "execution_count": 2,
   "metadata": {},
   "outputs": [],
   "source": [
    "file_tseries = \"../data/time-series-19-covid-combined_csv.csv\"\n",
    "file_keycountries = \"../data/key-countries-pivoted_csv.csv\""
   ]
  },
  {
   "cell_type": "markdown",
   "metadata": {},
   "source": [
    "Before importing data from the file, first have a look at the fields in any text reader. Alternatively, you can open the file in excel and see various fields in spreadsheet format.\n",
    "\n",
    "![Time Series Covid-19 Combined data](tseries.png)"
   ]
  },
  {
   "cell_type": "code",
   "execution_count": 88,
   "metadata": {},
   "outputs": [],
   "source": [
    "line_count = 0\n",
    "date = []\n",
    "country = []\n",
    "state = []\n",
    "lat = []\n",
    "long = []\n",
    "confirmed = []\n",
    "recovered = []\n",
    "deaths = []\n",
    "\n",
    "with open(file_tseries) as csv_file:\n",
    "    csv_reader = csv.reader(csv_file, delimiter=\",\")\n",
    "    for row in csv_reader:\n",
    "        if line_count != 0:\n",
    "            date.append(row[0])\n",
    "            country.append(row[1])\n",
    "            state.append(row[2])\n",
    "            lat.append(row[3])\n",
    "            long.append(row[4])\n",
    "            if row[5]=='':\n",
    "                row[5] = '0'\n",
    "            confirmed.append(row[5])\n",
    "            if row[6]=='':\n",
    "                row[6] = '0'\n",
    "            recovered.append(row[6])\n",
    "            if row[7]=='':\n",
    "                row[7] = '0'\n",
    "            deaths.append(row[7])\n",
    "        line_count += 1"
   ]
  },
  {
   "cell_type": "markdown",
   "metadata": {},
   "source": [
    "Having read the data, let's see what all is possible now!!!\n",
    "1. Find unique countries in the list. *(NOTE: It is not that straightforward for list. Try doing it.)*\n",
    "2. Find the country with the highest number of total confirmed cases.\n",
    "3. Find the country with the highest number of total deaths.\n",
    "5. Plot confirmed cases for top 20 countries.\n",
    "4. Plot confirmed, recovered, and deaths w.r.t time for India.\n",
    "\n",
    "Most of these operations are much easier using a Numpy array.  \n",
    "Hence, we generally prefer numpy for our work!  \n",
    "**Speed** is the added advantage one gains with Numpy."
   ]
  },
  {
   "cell_type": "markdown",
   "metadata": {},
   "source": [
    "### Finding unique countries"
   ]
  },
  {
   "cell_type": "code",
   "execution_count": 77,
   "metadata": {},
   "outputs": [],
   "source": [
    "np_countries = np.array(country)\n",
    "unique_countries = np.unique(np_countries)"
   ]
  },
  {
   "cell_type": "markdown",
   "metadata": {},
   "source": [
    "### Data needs to be segregated to work on other three tasks."
   ]
  },
  {
   "cell_type": "code",
   "execution_count": 94,
   "metadata": {},
   "outputs": [],
   "source": [
    "# Calculating total confirmed cases for each country\n",
    "cnfrmd_cases_cntrywise = dict.fromkeys(unique_countries,0)\n",
    "deaths_cntrywise = dict.fromkeys(unique_countries, 0)\n",
    "cntries_with_states = []\n",
    "\n",
    "for i in np.arange(len(date)):\n",
    "    if state[i] == '':\n",
    "        cnfrmd_cases_cntrywise[country[i]] = np.int(confirmed[i])\n",
    "        deaths_cntrywise[country[i]] = np.int(deaths[i])\n",
    "    else:\n",
    "        cntries_with_states.append(country[i])\n",
    "        \n",
    "# There is an issue here, there are some countries for which statewise distribution is given.\n",
    "# Identify those countries. Then count total number of confirmed cases and death in those\n",
    "# countries.\n",
    "cntries_with_states = np.unique(cntries_with_states)\n",
    "\n",
    "# Calculate the required values for these countries.\n",
    "        \n"
   ]
  },
  {
   "cell_type": "code",
   "execution_count": 96,
   "metadata": {},
   "outputs": [
    {
     "data": {
      "text/plain": [
       "array(['Australia', 'Canada', 'China', 'Denmark', 'France', 'Netherlands',\n",
       "       'United Kingdom'], dtype='<U14')"
      ]
     },
     "execution_count": 96,
     "metadata": {},
     "output_type": "execute_result"
    }
   ],
   "source": [
    "# Highest number of total deaths and confirmed cases."
   ]
  },
  {
   "cell_type": "code",
   "execution_count": 108,
   "metadata": {},
   "outputs": [
    {
     "data": {
      "text/plain": [
       "[('Afghanistan', 444),\n",
       " ('Albania', 400),\n",
       " ('Algeria', 1572),\n",
       " ('Andorra', 564),\n",
       " ('Angola', 19),\n",
       " ('Antigua and Barbuda', 19),\n",
       " ('Argentina', 1715),\n",
       " ('Armenia', 881),\n",
       " ('Australia', 0),\n",
       " ('Austria', 12942),\n",
       " ('Azerbaijan', 822),\n",
       " ('Bahamas', 40),\n",
       " ('Bahrain', 823),\n",
       " ('Bangladesh', 218),\n",
       " ('Barbados', 63),\n",
       " ('Belarus', 1066),\n",
       " ('Belgium', 23403),\n",
       " ('Belize', 8),\n",
       " ('Benin', 26),\n",
       " ('Bhutan', 5),\n",
       " ('Bolivia', 210),\n",
       " ('Bosnia and Herzegovina', 804),\n",
       " ('Botswana', 6),\n",
       " ('Brazil', 16170),\n",
       " ('Brunei', 135),\n",
       " ('Bulgaria', 593),\n",
       " ('Burkina Faso', 414),\n",
       " ('Burma', 22),\n",
       " ('Burundi', 3),\n",
       " ('Cabo Verde', 7),\n",
       " ('Cambodia', 117),\n",
       " ('Cameroon', 730),\n",
       " ('Canada', 0),\n",
       " ('Central African Republic', 8),\n",
       " ('Chad', 10),\n",
       " ('Chile', 5546),\n",
       " ('China', 0),\n",
       " ('Colombia', 2054),\n",
       " ('Congo (Brazzaville)', 45),\n",
       " ('Congo (Kinshasa)', 180),\n",
       " ('Costa Rica', 502),\n",
       " (\"Cote d'Ivoire\", 384),\n",
       " ('Croatia', 1343),\n",
       " ('Cuba', 457),\n",
       " ('Cyprus', 526),\n",
       " ('Czechia', 5312),\n",
       " ('Denmark', 5402),\n",
       " ('Diamond Princess', 712),\n",
       " ('Djibouti', 135),\n",
       " ('Dominica', 15),\n",
       " ('Dominican Republic', 2111),\n",
       " ('Ecuador', 4450),\n",
       " ('Egypt', 1560),\n",
       " ('El Salvador', 93),\n",
       " ('Equatorial Guinea', 18),\n",
       " ('Eritrea', 33),\n",
       " ('Estonia', 1185),\n",
       " ('Eswatini', 12),\n",
       " ('Ethiopia', 55),\n",
       " ('Fiji', 15),\n",
       " ('Finland', 2487),\n",
       " ('France', 112950),\n",
       " ('Gabon', 34),\n",
       " ('Gambia', 4),\n",
       " ('Georgia', 211),\n",
       " ('Germany', 113296),\n",
       " ('Ghana', 313),\n",
       " ('Greece', 1884),\n",
       " ('Grenada', 12),\n",
       " ('Guatemala', 87),\n",
       " ('Guinea', 164),\n",
       " ('Guinea-Bissau', 33),\n",
       " ('Guyana', 37),\n",
       " ('Haiti', 27),\n",
       " ('Holy See', 8),\n",
       " ('Honduras', 312),\n",
       " ('Hungary', 895),\n",
       " ('Iceland', 1616),\n",
       " ('India', 5916),\n",
       " ('Indonesia', 2956),\n",
       " ('Iran', 64586),\n",
       " ('Iraq', 1202),\n",
       " ('Ireland', 6074),\n",
       " ('Israel', 9404),\n",
       " ('Italy', 139422),\n",
       " ('Jamaica', 63),\n",
       " ('Japan', 4257),\n",
       " ('Jordan', 358),\n",
       " ('Kazakhstan', 727),\n",
       " ('Kenya', 179),\n",
       " ('Korea, South', 10384),\n",
       " ('Kosovo', 184),\n",
       " ('Kuwait', 855),\n",
       " ('Kyrgyzstan', 270),\n",
       " ('Laos', 15),\n",
       " ('Latvia', 577),\n",
       " ('Lebanon', 576),\n",
       " ('Liberia', 31),\n",
       " ('Libya', 21),\n",
       " ('Liechtenstein', 78),\n",
       " ('Lithuania', 912),\n",
       " ('Luxembourg', 3034),\n",
       " ('MS Zaandam', 9),\n",
       " ('Madagascar', 93),\n",
       " ('Malawi', 8),\n",
       " ('Malaysia', 4119),\n",
       " ('Maldives', 19),\n",
       " ('Mali', 59),\n",
       " ('Malta', 299),\n",
       " ('Mauritania', 6),\n",
       " ('Mauritius', 273),\n",
       " ('Mexico', 2785),\n",
       " ('Moldova', 1174),\n",
       " ('Monaco', 81),\n",
       " ('Mongolia', 16),\n",
       " ('Montenegro', 248),\n",
       " ('Morocco', 1275),\n",
       " ('Mozambique', 17),\n",
       " ('Namibia', 16),\n",
       " ('Nepal', 9),\n",
       " ('Netherlands', 20549),\n",
       " ('New Zealand', 1210),\n",
       " ('Nicaragua', 6),\n",
       " ('Niger', 342),\n",
       " ('Nigeria', 276),\n",
       " ('North Macedonia', 617),\n",
       " ('Norway', 6086),\n",
       " ('Oman', 419),\n",
       " ('Pakistan', 4263),\n",
       " ('Panama', 2249),\n",
       " ('Papua New Guinea', 2),\n",
       " ('Paraguay', 119),\n",
       " ('Peru', 4342),\n",
       " ('Philippines', 3870),\n",
       " ('Poland', 5205),\n",
       " ('Portugal', 13141),\n",
       " ('Qatar', 2210),\n",
       " ('Romania', 4761),\n",
       " ('Russia', 8672),\n",
       " ('Rwanda', 110),\n",
       " ('Saint Kitts and Nevis', 11),\n",
       " ('Saint Lucia', 14),\n",
       " ('Saint Vincent and the Grenadines', 8),\n",
       " ('San Marino', 279),\n",
       " ('Sao Tome and Principe', 4),\n",
       " ('Saudi Arabia', 2932),\n",
       " ('Senegal', 244),\n",
       " ('Serbia', 2666),\n",
       " ('Seychelles', 11),\n",
       " ('Sierra Leone', 7),\n",
       " ('Singapore', 1623),\n",
       " ('Slovakia', 682),\n",
       " ('Slovenia', 1091),\n",
       " ('Somalia', 12),\n",
       " ('South Africa', 1845),\n",
       " ('South Sudan', 2),\n",
       " ('Spain', 148220),\n",
       " ('Sri Lanka', 189),\n",
       " ('Sudan', 14),\n",
       " ('Suriname', 10),\n",
       " ('Sweden', 8419),\n",
       " ('Switzerland', 23280),\n",
       " ('Syria', 19),\n",
       " ('Taiwan*', 379),\n",
       " ('Tanzania', 25),\n",
       " ('Thailand', 2369),\n",
       " ('Timor-Leste', 1),\n",
       " ('Togo', 70),\n",
       " ('Trinidad and Tobago', 107),\n",
       " ('Tunisia', 628),\n",
       " ('Turkey', 38226),\n",
       " ('US', 429052),\n",
       " ('Uganda', 53),\n",
       " ('Ukraine', 1668),\n",
       " ('United Arab Emirates', 2659),\n",
       " ('United Kingdom', 60733),\n",
       " ('Uruguay', 424),\n",
       " ('Uzbekistan', 545),\n",
       " ('Venezuela', 167),\n",
       " ('Vietnam', 251),\n",
       " ('West Bank and Gaza', 263),\n",
       " ('Western Sahara', 4),\n",
       " ('Zambia', 39),\n",
       " ('Zimbabwe', 11)]"
      ]
     },
     "execution_count": 108,
     "metadata": {},
     "output_type": "execute_result"
    }
   ],
   "source": [
    "# Let's sort our dictionary here\n",
    "sorted(cnfrmd_cases_cntrywise.items())\n",
    "#plt.bar(cnfrmd_cases_cntrywise.keys(), cnfrmd_cases_cntrywise.values())"
   ]
  },
  {
   "cell_type": "code",
   "execution_count": 110,
   "metadata": {},
   "outputs": [
    {
     "name": "stdout",
     "output_type": "stream",
     "text": [
      "Object `base.sorted()` not found.\n"
     ]
    }
   ],
   "source": [
    "?base.sorted()"
   ]
  },
  {
   "cell_type": "code",
   "execution_count": 114,
   "metadata": {},
   "outputs": [
    {
     "name": "stdout",
     "output_type": "stream",
     "text": [
      "The watermark extension is already loaded. To reload it, use:\n",
      "  %reload_ext watermark\n",
      "CPython 3.7.4\n",
      "IPython 7.8.0\n",
      "\n",
      "numpy 1.17.2\n",
      "matplotlib 3.1.1\n",
      "csv 1.0\n",
      "\n",
      "compiler   : Clang 4.0.1 (tags/RELEASE_401/final)\n",
      "system     : Darwin\n",
      "release    : 19.2.0\n",
      "machine    : x86_64\n",
      "processor  : i386\n",
      "CPU cores  : 4\n",
      "interpreter: 64bit\n",
      " \n",
      "last updated: Sat Apr 11 2020 20:52:25 CEST\n"
     ]
    }
   ],
   "source": [
    "%load_ext watermark\n",
    "\n",
    "# python, ipython, packages, and machine characteristics\n",
    "%watermark -v -m -p numpy,matplotlib,csv\n",
    "\n",
    "# date\n",
    "print (\" \")\n",
    "%watermark -u -n -t -z"
   ]
  },
  {
   "cell_type": "code",
   "execution_count": null,
   "metadata": {},
   "outputs": [],
   "source": []
  }
 ],
 "metadata": {
  "kernelspec": {
   "display_name": "Python 3",
   "language": "python",
   "name": "python3"
  },
  "language_info": {
   "codemirror_mode": {
    "name": "ipython",
    "version": 3
   },
   "file_extension": ".py",
   "mimetype": "text/x-python",
   "name": "python",
   "nbconvert_exporter": "python",
   "pygments_lexer": "ipython3",
   "version": "3.7.4"
  }
 },
 "nbformat": 4,
 "nbformat_minor": 2
}
